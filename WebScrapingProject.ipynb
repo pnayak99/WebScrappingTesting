{
 "cells": [
  {
   "cell_type": "code",
   "execution_count": 2,
   "metadata": {},
   "outputs": [
    {
     "name": "stdout",
     "output_type": "stream",
     "text": [
      "{'name': 'Toy Story', 'movie_genre': ['Animation', 'Adventure', 'Comedy', 'Family', 'Fantasy'], 'movie_rating': '8.3'}\n",
      "{'name': 'Jumanji', 'movie_genre': ['Adventure', 'Comedy', 'Family', 'Fantasy'], 'movie_rating': '7.0'}\n",
      "{'name': 'Grumpier Old Men', 'movie_genre': ['Comedy', 'Romance'], 'movie_rating': '6.7'}\n",
      "{'name': 'Waiting to Exhale', 'movie_genre': ['Comedy', 'Drama', 'Romance'], 'movie_rating': '5.9'}\n",
      "{'name': 'Father of the Bride Part II', 'movie_genre': ['Comedy', 'Family', 'Romance'], 'movie_rating': '6.0'}\n",
      "{'name': 'Heat', 'movie_genre': ['Crime', 'Drama', 'Thriller'], 'movie_rating': '8.2'}\n"
     ]
    }
   ],
   "source": [
    "import requests\n",
    "import json\n",
    "import bs4\n",
    "import pandas as pd\n",
    "\n",
    "def get_id(num):\n",
    "    data=pd.read_csv(r'C:\\Users\\Pritam\\Downloads\\links.csv')\n",
    "    start=0\n",
    "    end=start+num\n",
    "    movies=list(data['imdbId'])\n",
    "    movies=movies[start:end+1]\n",
    "    return movies\n",
    "\n",
    "def scrape_id(movie_id):\n",
    "    url=r'https://www.imdb.com/title/tt{}/'.format(str(movie_id).zfill(7))\n",
    "    res=requests.get(url)\n",
    "    data=bs4.BeautifulSoup(res.text)\n",
    "    current_page=data.find('script', attrs={'type':'application/ld+json'})\n",
    "    current_page=str(current_page)[str(current_page).find('{'):-9]\n",
    "    return current_page\n",
    "\n",
    "def collect_movie_data(movie_id):\n",
    "    movie_data=scrape_id(movie_id)\n",
    "    movie_data=json.loads(movie_data)\n",
    "    movie={'name':movie_data['name'],'movie_genre':movie_data['genre'],'movie_rating':movie_data['aggregateRating']['ratingValue']}\n",
    "    return movie\n",
    "\n",
    "ids=get_id(5)\n",
    "for i in ids:\n",
    "    print(collect_movie_data(i))\n"
   ]
  },
  {
   "cell_type": "code",
   "execution_count": 3,
   "metadata": {},
   "outputs": [
    {
     "data": {
      "text/plain": [
       "[8.3, 7.0, 6.7, 5.9, 6.0, 8.2]"
      ]
     },
     "execution_count": 3,
     "metadata": {},
     "output_type": "execute_result"
    }
   ],
   "source": [
    "ids=get_id(5)\n",
    "ls=[]\n",
    "rating=[]\n",
    "for i in ids:\n",
    "    x=collect_movie_data(i)\n",
    "    ls.append(x['name'])\n",
    "    rating.append(float(x['movie_rating']))\n",
    "ls\n",
    "rating"
   ]
  },
  {
   "cell_type": "code",
   "execution_count": 4,
   "metadata": {},
   "outputs": [
    {
     "data": {
      "text/plain": [
       "['Toy Story',\n",
       " 'Jumanji',\n",
       " 'Grumpier Old Men',\n",
       " 'Waiting to Exhale',\n",
       " 'Father of the Bride Part II',\n",
       " 'Heat']"
      ]
     },
     "execution_count": 4,
     "metadata": {},
     "output_type": "execute_result"
    }
   ],
   "source": [
    "ls"
   ]
  },
  {
   "cell_type": "code",
   "execution_count": 5,
   "metadata": {},
   "outputs": [
    {
     "data": {
      "text/plain": [
       "[8.3, 7.0, 6.7, 5.9, 6.0, 8.2]"
      ]
     },
     "execution_count": 5,
     "metadata": {},
     "output_type": "execute_result"
    }
   ],
   "source": [
    "rating"
   ]
  },
  {
   "cell_type": "code",
   "execution_count": 6,
   "metadata": {},
   "outputs": [
    {
     "data": {
      "text/plain": [
       "<BarContainer object of 6 artists>"
      ]
     },
     "execution_count": 6,
     "metadata": {},
     "output_type": "execute_result"
    },
    {
     "data": {
      "image/png": "[encoded data removed]",
      "text/plain": [
       "<Figure size 432x288 with 1 Axes>"
      ]
     },
     "metadata": {
      "needs_background": "light"
     },
     "output_type": "display_data"
    }
   ],
   "source": [
    "import matplotlib.pyplot as plt\n",
    "fig=plt.figure()\n",
    "ax=fig.add_axes([0,0,2,2])\n",
    "ax.bar(ls,rating)"
   ]
  },
  {
   "cell_type": "code",
   "execution_count": null,
   "metadata": {},
   "outputs": [],
   "source": []
  }
 ],
 "metadata": {
  "kernelspec": {
   "display_name": "Python 3",
   "language": "python",
   "name": "python3"
  },
  "language_info": {
   "codemirror_mode": {
    "name": "ipython",
    "version": 3
   },
   "file_extension": ".py",
   "mimetype": "text/x-python",
   "name": "python",
   "nbconvert_exporter": "python",
   "pygments_lexer": "ipython3",
   "version": "3.7.6"
  }
 },
 "nbformat": 4,
 "nbformat_minor": 4
}
